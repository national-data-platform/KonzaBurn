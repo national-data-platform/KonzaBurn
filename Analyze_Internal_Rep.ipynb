{
 "cells": [
  {
   "cell_type": "code",
   "execution_count": null,
   "id": "55321893-b180-4a43-8c14-6b54619e86dc",
   "metadata": {},
   "outputs": [],
   "source": [
    "# %matplotlib widget\n",
    "import csv\n",
    "import pandas as pd\n",
    "import numpy as np\n",
    "import torch\n",
    "from sklearn.manifold import TSNE\n",
    "import matplotlib.pyplot as plt\n",
    "import os\n",
    "import matplotlib.image as mpimg\n",
    "from matplotlib.offsetbox import OffsetImage, AnnotationBbox\n",
    "#import mpld3\n",
    "from PIL import Image\n",
    "import random\n",
    "\n",
    "\n",
    "#%pip install plotly\n",
    "#%pip install pandas\n",
    "#%pip install mpld3\n",
    "#%pip install -U scikit-learn\n",
    "#%pip install ipympl"
   ]
  },
  {
   "cell_type": "code",
   "execution_count": null,
   "id": "2ce896f0-48b8-437a-a74c-13b46081cb38",
   "metadata": {},
   "outputs": [],
   "source": [
    "folder = '../RESULTS'\n",
    "file_names_path=os.path.join(folder,'checkpoint.txt')\n",
    "f = open(file_names_path, 'r')\n",
    "file_names = f.read()\n",
    "f.close()"
   ]
  },
  {
   "cell_type": "code",
   "execution_count": null,
   "id": "78bc0d68-1ec9-46c6-8de5-5d1cc6d5fe8e",
   "metadata": {},
   "outputs": [],
   "source": []
  },
  {
   "cell_type": "code",
   "execution_count": null,
   "id": "43629590-b955-4eda-b3e7-0bc2043cba8f",
   "metadata": {
    "scrolled": true
   },
   "outputs": [],
   "source": [
    "print(len(file_names))"
   ]
  },
  {
   "cell_type": "code",
   "execution_count": null,
   "id": "702e06b1-e198-455c-8b34-4b85aea3e06b",
   "metadata": {},
   "outputs": [],
   "source": [
    "n_images = 12273"
   ]
  },
  {
   "cell_type": "code",
   "execution_count": null,
   "id": "d6f539e9-97e8-490a-9994-08613146dd76",
   "metadata": {},
   "outputs": [],
   "source": [
    "int_rep_path=os.path.join(folder,'internal_rep.pt')\n",
    "rgb_int_rep_path=os.path.join(folder,'rgb_internal_rep.pt')\n",
    "ir_int_rep_path=os.path.join(folder,'ir_internal_rep.pt')\n",
    "\n",
    "int_rep=torch.load(int_rep_path)[:n_images]\n",
    "rgb_int_rep=torch.load(rgb_int_rep_path)[:n_images]\n",
    "ir_int_rep=torch.load(ir_int_rep_path)[:n_images]"
   ]
  },
  {
   "cell_type": "code",
   "execution_count": null,
   "id": "ca0a6262-1266-4673-a51c-0ba1978d9b5d",
   "metadata": {},
   "outputs": [],
   "source": [
    "#int_rep=int_rep.cpu().detach().numpy()"
   ]
  },
  {
   "cell_type": "code",
   "execution_count": null,
   "id": "49b53d22-2a5b-41b6-bbd3-faf419245872",
   "metadata": {},
   "outputs": [],
   "source": [
    "print(int_rep.shape)\n",
    "print(rgb_int_rep.shape)\n",
    "print(ir_int_rep.shape)"
   ]
  },
  {
   "cell_type": "code",
   "execution_count": null,
   "id": "e08325ee-4dcf-4062-ae3e-634bb91c44a4",
   "metadata": {},
   "outputs": [],
   "source": [
    "int_rep=torch.cat((int_rep,rgb_int_rep,ir_int_rep), 0)"
   ]
  },
  {
   "cell_type": "code",
   "execution_count": null,
   "id": "20c07421-ceb2-4f7a-81d0-efb0fc4ea80a",
   "metadata": {},
   "outputs": [],
   "source": [
    "%%time\n",
    "# This takes 10 minutes on entire dataset (12273)\n",
    "embedd_int_rep = TSNE(n_components=2, learning_rate='auto', init='random', perplexity=3).fit_transform(int_rep)"
   ]
  },
  {
   "cell_type": "code",
   "execution_count": null,
   "id": "8c620f39-b240-4823-b4fa-20b17c87ad93",
   "metadata": {},
   "outputs": [],
   "source": [
    "print(embedd_int_rep.shape)"
   ]
  },
  {
   "cell_type": "code",
   "execution_count": null,
   "id": "2364cf25-3c6f-4af5-8020-5cf86f61966f",
   "metadata": {},
   "outputs": [],
   "source": [
    "plt.scatter(embedd_int_rep[:,0], embedd_int_rep[:,1], alpha=0.5, color='black', s=0.2)\n",
    "plt.show()"
   ]
  },
  {
   "cell_type": "code",
   "execution_count": null,
   "id": "3f7d459b-da43-441b-a9d9-dda0e311ba59",
   "metadata": {},
   "outputs": [],
   "source": [
    "# dim=12273\n",
    "dim = n_images\n",
    "rgb_ir = embedd_int_rep[:dim,:]\n",
    "rgb = embedd_int_rep[dim:dim+dim,:]\n",
    "ir = embedd_int_rep[dim+dim:dim+dim+dim,:]\n",
    "plt.scatter(rgb_ir[:,0], rgb_ir[:,1], alpha=0.5, color='blue', s=5, label=f'RGB + IR')\n",
    "plt.scatter(rgb[:,0], rgb[:,1], alpha=0.5, color='red', s=5, label=f'RGB')\n",
    "plt.scatter(ir[:,0], ir[:,1], alpha=0.5, color='green', s=5, label=f'IR')\n",
    "plt.title('Scatter Plot')\n",
    "plt.xlabel('X')\n",
    "plt.ylabel('Y')\n",
    "plt.legend()\n",
    "plt.show()"
   ]
  },
  {
   "cell_type": "code",
   "execution_count": null,
   "id": "e2ab0870-e6df-4455-bb4d-d31caefaf081",
   "metadata": {},
   "outputs": [],
   "source": [
    "output_path=os.path.join(folder,'output.csv')"
   ]
  },
  {
   "cell_type": "code",
   "execution_count": null,
   "id": "5a3efb5f-e66c-4184-b466-e176668c1c86",
   "metadata": {
    "scrolled": true
   },
   "outputs": [],
   "source": [
    "classification=[]\n",
    "image_paths=[]\n",
    "with open(output_path, newline='') as csvfile:\n",
    "    spamreader = csv.reader(csvfile, delimiter=' ', quotechar='|')\n",
    "    for row in spamreader:\n",
    "        # print(row)\n",
    "        classification.append(row)\n",
    "        image_paths.append(\".\" + row[0][:-1])"
   ]
  },
  {
   "cell_type": "code",
   "execution_count": null,
   "id": "dffe86e6-8c47-471a-a985-c66df39a57ab",
   "metadata": {},
   "outputs": [],
   "source": [
    "len(classification)"
   ]
  },
  {
   "cell_type": "code",
   "execution_count": null,
   "id": "e87f2a92-98f1-4596-bad2-b88b69332b83",
   "metadata": {},
   "outputs": [],
   "source": [
    "print(rgb_ir.shape)\n",
    "print(rgb.shape)\n",
    "print(ir.shape)"
   ]
  },
  {
   "cell_type": "code",
   "execution_count": null,
   "id": "3a3bca32-76b8-4604-8620-075a36998766",
   "metadata": {},
   "outputs": [],
   "source": [
    "# Assuming rgb.shape is (2580, 2) and len(classification) is 2580\n",
    "#x = rgb_ir[:, 0]  # Get the first column of rgb (x-coordinates)\n",
    "#y = rgb_ir[:, 1]  # Get the second column of rgb (y-coordinates)\n",
    "x = rgb[:, 0]  # Get the first column of rgb (x-coordinates)\n",
    "y = rgb[:, 1]  # Get the second column of rgb (y-coordinates)\n",
    "#x = ir[:, 0]  # Get the first column of rgb (x-coordinates)\n",
    "#y = ir[:, 1]  # Get the second column of rgb (y-coordinates)\n",
    "\n",
    "print(\"x.shape\", x.shape)\n",
    "print(\"y.shape\", y.shape)"
   ]
  },
  {
   "cell_type": "code",
   "execution_count": null,
   "id": "45d2b03f-4a18-4c09-bf71-1adaad8119dd",
   "metadata": {},
   "outputs": [],
   "source": [
    "# Create a scatter plot\n",
    "plt.figure(figsize=(8, 6))  # Set the figure size\n",
    "colors = ['black', 'r']  # Define colors for the classes (red for 0, green for 1)\n"
   ]
  },
  {
   "cell_type": "code",
   "execution_count": null,
   "id": "4f94a30d-8322-4122-846f-82f9b662aba1",
   "metadata": {},
   "outputs": [],
   "source": [
    "Classification=[]\n",
    "for Class in classification:\n",
    "    #print(Class[1])\n",
    "    Classification.append(Class[2])"
   ]
  },
  {
   "cell_type": "code",
   "execution_count": null,
   "id": "f164f2a4-77b3-4c91-8a39-a3b1886b56a2",
   "metadata": {},
   "outputs": [],
   "source": [
    "# Iterate over the unique labels and plot the points with corresponding colors\n",
    "for label in [0, 1]:\n",
    "    indices = [i for i, l in enumerate(Classification) if int(l[0]) == label]\n",
    "    plt.scatter(x[indices], y[indices], c=colors[label], label=f'Class {label}', alpha=0.5, s=5)\n",
    "\n",
    "plt.title('Scatter Plot')\n",
    "plt.xlabel('X')\n",
    "plt.ylabel('Y')\n",
    "plt.legend()\n",
    "plt.show()"
   ]
  },
  {
   "cell_type": "code",
   "execution_count": null,
   "id": "d7259504-1edc-4b95-9fbe-118a8e2e9475",
   "metadata": {},
   "outputs": [],
   "source": [
    "z = np.stack((x, y), axis=1)\n",
    "z.shape"
   ]
  },
  {
   "cell_type": "code",
   "execution_count": null,
   "id": "ded63390-9de8-41d1-9349-e7ac1c446bee",
   "metadata": {},
   "outputs": [],
   "source": [
    "v=np.array([0, 0])\n",
    "# v=np.array([-71.0,88.0])\n",
    "#v=np.array([-102.9,-46.0])\n",
    "\n",
    "# Step 1: Broadcast V to match the shape of C\n",
    "v_broadcasted = np.tile(v, (z.shape[0], 1))\n",
    "\n",
    "# Step 2: Calculate the Euclidean distances\n",
    "distances = np.linalg.norm(z - v_broadcasted, axis=1)\n",
    "\n",
    "# Step 3: Find the indices of the 10 smallest distances\n",
    "closest_indices = np.argsort(distances)[:10]\n",
    "\n",
    "print(closest_indices)"
   ]
  },
  {
   "cell_type": "code",
   "execution_count": null,
   "id": "1c0a3954-68ba-4c2c-9104-da5842da5199",
   "metadata": {},
   "outputs": [],
   "source": [
    "# Create a figure with a grid of subplots\n",
    "num_rows = 5\n",
    "num_cols = 2\n",
    "fig, axes = plt.subplots(num_rows, num_cols)#, figsize=(20, 8))\n",
    "\n",
    "for i, index in enumerate(closest_indices):\n",
    "    row = i // num_cols\n",
    "    col = i % num_cols\n",
    "    print(classification[index])\n",
    "    image_path=classification[index][0][:-1]\n",
    "    image = mpimg.imread(\".\" + image_path)\n",
    "    axes[row, col].imshow(image)\n",
    "    axes[row, col].axis('off')\n",
    "\n",
    "# Adjust spacing between subplots\n",
    "plt.subplots_adjust(wspace=0.1, hspace=0.1)\n",
    "\n",
    "# Display the figure\n",
    "plt.show()\n"
   ]
  },
  {
   "cell_type": "code",
   "execution_count": null,
   "id": "72b2bf81-fe06-4aae-9521-218b74ba9af5",
   "metadata": {},
   "outputs": [],
   "source": [
    "# Iterate over the unique labels and plot the points with corresponding colors\n",
    "fig=plt.figure()\n",
    "for label in [0, 1]:\n",
    "    indices = [i for i, l in enumerate(Classification) if int(l[0]) == label]\n",
    "    plt.scatter(x[indices], y[indices], c=colors[label], label=f'Class {label}', alpha=0.5, s=5)\n",
    "\n",
    "\n",
    "plt.scatter(x[closest_indices], y[closest_indices], c='blue', alpha=0.5, s=15)\n",
    "\n",
    "plt.title('Scatter Plot')\n",
    "plt.xlabel('X')\n",
    "plt.ylabel('Y')\n",
    "plt.legend()\n",
    "plt.show()"
   ]
  },
  {
   "cell_type": "code",
   "execution_count": null,
   "id": "b352a8e1-850c-4ce6-ae5d-19d36e20c9c2",
   "metadata": {
    "scrolled": true
   },
   "outputs": [],
   "source": [
    "# Generate data x, y for scatter and an array of images.\n",
    "images=[]\n",
    "for i, image_path in enumerate(image_paths):\n",
    "    \n",
    "    if i < 10:\n",
    "        print(image_path)\n",
    "    try:\n",
    "        image = Image.open(image_path)\n",
    "        if i < 10:\n",
    "            print(image.size)\n",
    "        # images.append(image.resize((int(image.size[0]/10), int(image.size[1]/10))))\n",
    "    except FileNotFoundError:\n",
    "        pass\n"
   ]
  },
  {
   "cell_type": "code",
   "execution_count": null,
   "id": "2047f009-e120-425a-b329-8d75928249dd",
   "metadata": {},
   "outputs": [],
   "source": [
    "# # create figure and plot scatter\n",
    "# fig = plt.figure()\n",
    "# ax = fig.add_subplot(111)\n",
    "# line, = ax.plot(x,y, ls=\"\", marker=\"o\", markersize=0.5)\n",
    "\n",
    "# # create the annotations box\n",
    "# image = Image.open(image_paths[0])\n",
    "# im = OffsetImage(image, zoom=5)\n",
    "# xybox=(50., 50.)\n",
    "# ab = AnnotationBbox(im, (0,0), xybox=xybox, xycoords='data',\n",
    "#         boxcoords=\"offset points\",  pad=0.3,  arrowprops=dict(arrowstyle=\"->\"))\n",
    "# # add it to the axes and make it invisible\n",
    "# ax.add_artist(ab)\n",
    "# ab.set_visible(False)\n",
    "\n",
    "# def hover(event):\n",
    "#     # if the mouse is over the scatter points\n",
    "#     if line.contains(event)[0]:\n",
    "#         # find out the index within the array from the event\n",
    "#         ind, = line.contains(event)[1][\"ind\"]\n",
    "#         # get the figure size\n",
    "#         w,h = fig.get_size_inches()*fig.dpi\n",
    "#         ws = (event.x > w/2.)*-1 + (event.x <= w/2.) \n",
    "#         hs = (event.y > h/2.)*-1 + (event.y <= h/2.)\n",
    "#         # if event occurs in the top or right quadrant of the figure,\n",
    "#         # change the annotation box position relative to mouse.\n",
    "#         ab.xybox = (xybox[0]*ws, xybox[1]*hs)\n",
    "#         # make annotation box visible\n",
    "#         ab.set_visible(True)\n",
    "#         # place it at the position of the hovered scatter point\n",
    "#         ab.xy =(x[ind], y[ind])\n",
    "#         # set the image corresponding to that point\n",
    "#         #im.set_data(arr[ind,:,:])\n",
    "#         image=Image.open(image_paths[ind])\n",
    "#         im.set_data(image)\n",
    "#     else:\n",
    "#         #if the mouse is not over a scatter point\n",
    "#         ab.set_visible(False)\n",
    "#     fig.canvas.draw_idle()\n",
    "\n",
    "# # add callback for mouse moves\n",
    "# fig.canvas.mpl_connect('motion_notify_event', hover)           \n",
    "# plt.show()"
   ]
  },
  {
   "cell_type": "code",
   "execution_count": null,
   "id": "3c31d3bc-4bce-4c90-8486-dfa00c162a3b",
   "metadata": {},
   "outputs": [],
   "source": [
    "counter=0\n",
    "for classif in Classification:\n",
    "    if 1==int(classif[0]):\n",
    "        counter+=1\n",
    "\n",
    "len(Classification)/counter"
   ]
  },
  {
   "cell_type": "code",
   "execution_count": null,
   "id": "60ac3441-5271-4e51-8a4a-0b5038130b10",
   "metadata": {},
   "outputs": [],
   "source": []
  }
 ],
 "metadata": {
  "kernelspec": {
   "display_name": "Python 3 (ipykernel)",
   "language": "python",
   "name": "python3"
  },
  "language_info": {
   "codemirror_mode": {
    "name": "ipython",
    "version": 3
   },
   "file_extension": ".py",
   "mimetype": "text/x-python",
   "name": "python",
   "nbconvert_exporter": "python",
   "pygments_lexer": "ipython3",
   "version": "3.11.9"
  }
 },
 "nbformat": 4,
 "nbformat_minor": 5
}
